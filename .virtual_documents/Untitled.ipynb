import numpy as np
import pandas as pd
import altair as alt


qwl_df = pd.read_csv('data/bei_vita_qwl_assessment.csv')


lineplot = alt.Chart(qwl_df, title='How healthy are the employees feeling overall ? ').mark_area(
        color = "lightblue",
        interpolate = "step-after",
        line = True
    ).encode(
        x = 'Total score',
        y="count():Q",
    ).properties(width=600).interactive()


lineplot


qwl_df["Country of Residence"]


qwl_df.columns



